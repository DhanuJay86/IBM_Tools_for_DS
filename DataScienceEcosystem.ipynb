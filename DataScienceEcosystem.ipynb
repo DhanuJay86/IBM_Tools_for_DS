{
 "cells": [
  {
   "cell_type": "markdown",
   "id": "f6408d58",
   "metadata": {},
   "source": [
    "Data Science Tools and EcoSystems"
   ]
  },
  {
   "cell_type": "markdown",
   "id": "4accdb4f",
   "metadata": {},
   "source": [
    "In this notebook, Data Science Tools and Ecosystem are Summarized."
   ]
  },
  {
   "cell_type": "markdown",
   "id": "7ddc5b65",
   "metadata": {},
   "source": [
    "Some of the popular languages that Data Scientists use are: \n",
    "<ol>\n",
    "    <li> SQL </li>\n",
    "    <li> R  </li>\n",
    "    <li> Python </li>\n",
    "    <li> Scala </li>\n",
    "</ol>\n"
   ]
  },
  {
   "cell_type": "markdown",
   "id": "79d4d737",
   "metadata": {},
   "source": [
    "Some of the commonly used libraries used by Data Scientists include:\n",
    "<ol>\n",
    "    <li> Pandas </li>\n",
    "    <li> Torch </li>\n",
    "    <li> TensorFlow </li>\n",
    "    <li> Numpy </li>\n",
    "</ol>"
   ]
  },
  {
   "cell_type": "markdown",
   "id": "7c6844f8",
   "metadata": {},
   "source": [
    "\n",
    "<Table>\n",
    "    <th> Data Science Tools </th>\n",
    "    <tr> <td> Jupyter </td></tr>\n",
    "    <tr> <td> RStudio </td> </tr>\n",
    "    <tr> <td> PyCharm </td> </tr>\n",
    "</Table>"
   ]
  },
  {
   "cell_type": "markdown",
   "id": "32adb42b",
   "metadata": {},
   "source": [
    "<H3> Below are a few examples of evaluating arithmetic expressions in Python </H3>"
   ]
  },
  {
   "cell_type": "code",
   "execution_count": 5,
   "id": "9d53c592",
   "metadata": {},
   "outputs": [
    {
     "data": {
      "text/plain": [
       "17"
      ]
     },
     "execution_count": 5,
     "metadata": {},
     "output_type": "execute_result"
    }
   ],
   "source": [
    "#This a simple arithmetic expression to mutiply then add integers\n",
    "(3*4)+5"
   ]
  },
  {
   "cell_type": "code",
   "execution_count": 6,
   "id": "bffa3de2",
   "metadata": {},
   "outputs": [
    {
     "data": {
      "text/plain": [
       "3.3333333333333335"
      ]
     },
     "execution_count": 6,
     "metadata": {},
     "output_type": "execute_result"
    }
   ],
   "source": [
    "#This will convert 200 minutes to hours by diving by 60\n",
    "200/60"
   ]
  },
  {
   "cell_type": "markdown",
   "id": "59544710",
   "metadata": {},
   "source": [
    "<B> Objectives :</B>\n",
    "<ul>\n",
    "    <li> Opening ipynb file on Jupyter </li>\n",
    "    <li> Renaming and Saving a ipynb file </li>\n",
    "    <li> Marking down cells </li>\n",
    "    <li> Identifying popular languages used by Data Scientists </li>\n",
    "    <li> Identifying commonly used libraries </li>\n",
    "    <li> Identifying Data Science Tools </li>\n",
    "    <li> Performing basic arithmatics </li>\n",
    " </ul>   "
   ]
  },
  {
   "cell_type": "markdown",
   "id": "d957a4bb",
   "metadata": {},
   "source": [
    "<h2> Author </h2>\n",
    "Dhanujie"
   ]
  },
  {
   "cell_type": "code",
   "execution_count": null,
   "id": "0b5fabef",
   "metadata": {},
   "outputs": [],
   "source": []
  }
 ],
 "metadata": {
  "kernelspec": {
   "display_name": "Python 3 (ipykernel)",
   "language": "python",
   "name": "python3"
  },
  "language_info": {
   "codemirror_mode": {
    "name": "ipython",
    "version": 3
   },
   "file_extension": ".py",
   "mimetype": "text/x-python",
   "name": "python",
   "nbconvert_exporter": "python",
   "pygments_lexer": "ipython3",
   "version": "3.9.13"
  }
 },
 "nbformat": 4,
 "nbformat_minor": 5
}
